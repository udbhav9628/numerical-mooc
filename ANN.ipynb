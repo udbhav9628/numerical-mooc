{
  "nbformat": 4,
  "nbformat_minor": 0,
  "metadata": {
    "colab": {
      "name": "ANN.ipynb",
      "provenance": []
    },
    "kernelspec": {
      "name": "python3",
      "display_name": "Python 3"
    }
  },
  "cells": [
    {
      "cell_type": "code",
      "metadata": {
        "colab": {
          "base_uri": "https://localhost:8080/"
        },
        "id": "s_00Ob2KIGj-",
        "outputId": "15921dbb-27f4-47aa-d23e-60dd1bcd9a78"
      },
      "source": [
        "import pandas as pd\r\n",
        "from sklearn.model_selection import train_test_split\r\n",
        "\r\n",
        "\r\n",
        "\r\n",
        "import pandas as pd\r\n",
        "data = pd.read_csv('update 2.csv')\r\n",
        "\r\n",
        "from sklearn.neural_network import MLPRegressor\r\n",
        "from sklearn.model_selection import train_test_split\r\n",
        "from sklearn.datasets import fetch_california_housing\r\n",
        "from sklearn.preprocessing import StandardScaler\r\n",
        "from sklearn.metrics import r2_score\r\n",
        "import pandas as pd\r\n",
        "import time\r\n",
        "t0= time.clock()\r\n",
        "\r\n",
        "\r\n",
        "y = data['Total Displacement [mm]']\r\n",
        "X = data.drop(['Total Displacement [mm]'], axis=1)\r\n",
        "# Divide data into training and validation subsets\r\n",
        "X_train, X_test, y_train, y_test = train_test_split(X, y, train_size=0.95, test_size=0.05, random_state=47)\r\n",
        "\r\n",
        "sc_X = StandardScaler()\r\n",
        "sc_X.fit(X_train) \r\n",
        "X_trainscaled=sc_X.transform(X_train)\r\n",
        "X_testscaled=sc_X.transform(X_test)\r\n",
        "\r\n",
        "reg = MLPRegressor(hidden_layer_sizes=(64,64,32, 32,16 ),activation=\"tanh\" ,random_state=1, max_iter=20000000).fit(X_trainscaled, y_train)\r\n",
        "\r\n",
        "y_pred=reg.predict(X_testscaled)\r\n",
        "print(\"The Score with \", (r2_score(y_pred, y_test)))\r\n",
        "t1 = time.clock() - t0\r\n",
        "print(\"Time elapsed: \", t1) # CPU seconds elapsed (floating point)\r\n"
      ],
      "execution_count": 194,
      "outputs": [
        {
          "output_type": "stream",
          "text": [
            "The Score with  0.9947858666064133\n",
            "Time elapsed:  1.819749999999999\n"
          ],
          "name": "stdout"
        }
      ]
    },
    {
      "cell_type": "code",
      "metadata": {
        "colab": {
          "base_uri": "https://localhost:8080/"
        },
        "id": "dEtnohCii5kc",
        "outputId": "566f943d-e295-48ad-fbb5-dff13db4ee4c"
      },
      "source": [
        "from sklearn.model_selection import cross_val_score\r\n",
        "from sklearn.model_selection import KFold\r\n",
        "# model.fit(X_train, y_train)\r\n",
        "scores = cross_val_score(reg, X_trainscaled, y_train, scoring='r2', cv=5)\r\n",
        "scores"
      ],
      "execution_count": 178,
      "outputs": [
        {
          "output_type": "execute_result",
          "data": {
            "text/plain": [
              "array([0.99656486, 0.996452  , 0.99440329, 0.99634943, 0.99551934])"
            ]
          },
          "metadata": {
            "tags": []
          },
          "execution_count": 178
        }
      ]
    },
    {
      "cell_type": "code",
      "metadata": {
        "colab": {
          "base_uri": "https://localhost:8080/",
          "height": 402
        },
        "id": "9oXrIDxjJ66j",
        "outputId": "1219964c-dc37-435b-b1b9-56c7aa95f0d3"
      },
      "source": [
        "xp = 0.9;\r\n",
        "p = 270;\r\n",
        "df1 = pd.DataFrame(data=None,columns=[ 'Length [mm]','Applied Load [N]','Load Position'])\r\n",
        "for i in range(0, 1010, 10):\r\n",
        "  df1 = df1.append(pd.DataFrame([[i,p,xp]], columns=['Length [mm]','Applied Load [N]','Load Position']))\r\n",
        "\r\n",
        "df2 = sc_X.transform(df1)\r\n",
        "df = pd.DataFrame(df2, columns=df1.columns)\r\n",
        "defq = 0-reg.predict(df)\r\n",
        "\r\n",
        "forcepd = pd.DataFrame(defq, columns = ['Total Displacement [mm]'])\r\n",
        "j= forcepd['Total Displacement [mm]'].iloc[:101]\r\n",
        " \r\n",
        "df['Total Displacement [mm]']=j.values\r\n",
        "# df['Total Displacement [mm]']=forcepd['Total Displacement [mm]']\r\n",
        "# result = pd.concat([df, forcepd], axis=1)\r\n",
        "df"
      ],
      "execution_count": 195,
      "outputs": [
        {
          "output_type": "execute_result",
          "data": {
            "text/html": [
              "<div>\n",
              "<style scoped>\n",
              "    .dataframe tbody tr th:only-of-type {\n",
              "        vertical-align: middle;\n",
              "    }\n",
              "\n",
              "    .dataframe tbody tr th {\n",
              "        vertical-align: top;\n",
              "    }\n",
              "\n",
              "    .dataframe thead th {\n",
              "        text-align: right;\n",
              "    }\n",
              "</style>\n",
              "<table border=\"1\" class=\"dataframe\">\n",
              "  <thead>\n",
              "    <tr style=\"text-align: right;\">\n",
              "      <th></th>\n",
              "      <th>Length [mm]</th>\n",
              "      <th>Applied Load [N]</th>\n",
              "      <th>Load Position</th>\n",
              "      <th>Total Displacement [mm]</th>\n",
              "    </tr>\n",
              "  </thead>\n",
              "  <tbody>\n",
              "    <tr>\n",
              "      <th>0</th>\n",
              "      <td>-1.752490</td>\n",
              "      <td>-0.594468</td>\n",
              "      <td>1.054355</td>\n",
              "      <td>0.014956</td>\n",
              "    </tr>\n",
              "    <tr>\n",
              "      <th>1</th>\n",
              "      <td>-1.717787</td>\n",
              "      <td>-0.594468</td>\n",
              "      <td>1.054355</td>\n",
              "      <td>0.012378</td>\n",
              "    </tr>\n",
              "    <tr>\n",
              "      <th>2</th>\n",
              "      <td>-1.683083</td>\n",
              "      <td>-0.594468</td>\n",
              "      <td>1.054355</td>\n",
              "      <td>0.009755</td>\n",
              "    </tr>\n",
              "    <tr>\n",
              "      <th>3</th>\n",
              "      <td>-1.648380</td>\n",
              "      <td>-0.594468</td>\n",
              "      <td>1.054355</td>\n",
              "      <td>0.007086</td>\n",
              "    </tr>\n",
              "    <tr>\n",
              "      <th>4</th>\n",
              "      <td>-1.613676</td>\n",
              "      <td>-0.594468</td>\n",
              "      <td>1.054355</td>\n",
              "      <td>0.004368</td>\n",
              "    </tr>\n",
              "    <tr>\n",
              "      <th>...</th>\n",
              "      <td>...</td>\n",
              "      <td>...</td>\n",
              "      <td>...</td>\n",
              "      <td>...</td>\n",
              "    </tr>\n",
              "    <tr>\n",
              "      <th>96</th>\n",
              "      <td>1.579046</td>\n",
              "      <td>-0.594468</td>\n",
              "      <td>1.054355</td>\n",
              "      <td>-0.692471</td>\n",
              "    </tr>\n",
              "    <tr>\n",
              "      <th>97</th>\n",
              "      <td>1.613749</td>\n",
              "      <td>-0.594468</td>\n",
              "      <td>1.054355</td>\n",
              "      <td>-0.701729</td>\n",
              "    </tr>\n",
              "    <tr>\n",
              "      <th>98</th>\n",
              "      <td>1.648453</td>\n",
              "      <td>-0.594468</td>\n",
              "      <td>1.054355</td>\n",
              "      <td>-0.710813</td>\n",
              "    </tr>\n",
              "    <tr>\n",
              "      <th>99</th>\n",
              "      <td>1.683156</td>\n",
              "      <td>-0.594468</td>\n",
              "      <td>1.054355</td>\n",
              "      <td>-0.719721</td>\n",
              "    </tr>\n",
              "    <tr>\n",
              "      <th>100</th>\n",
              "      <td>1.717860</td>\n",
              "      <td>-0.594468</td>\n",
              "      <td>1.054355</td>\n",
              "      <td>-0.728447</td>\n",
              "    </tr>\n",
              "  </tbody>\n",
              "</table>\n",
              "<p>101 rows × 4 columns</p>\n",
              "</div>"
            ],
            "text/plain": [
              "     Length [mm]  Applied Load [N]  Load Position  Total Displacement [mm]\n",
              "0      -1.752490         -0.594468       1.054355                 0.014956\n",
              "1      -1.717787         -0.594468       1.054355                 0.012378\n",
              "2      -1.683083         -0.594468       1.054355                 0.009755\n",
              "3      -1.648380         -0.594468       1.054355                 0.007086\n",
              "4      -1.613676         -0.594468       1.054355                 0.004368\n",
              "..           ...               ...            ...                      ...\n",
              "96      1.579046         -0.594468       1.054355                -0.692471\n",
              "97      1.613749         -0.594468       1.054355                -0.701729\n",
              "98      1.648453         -0.594468       1.054355                -0.710813\n",
              "99      1.683156         -0.594468       1.054355                -0.719721\n",
              "100     1.717860         -0.594468       1.054355                -0.728447\n",
              "\n",
              "[101 rows x 4 columns]"
            ]
          },
          "metadata": {
            "tags": []
          },
          "execution_count": 195
        }
      ]
    },
    {
      "cell_type": "code",
      "metadata": {
        "colab": {
          "base_uri": "https://localhost:8080/",
          "height": 252
        },
        "id": "6Lg2mK1XKe17",
        "outputId": "69581464-14be-4791-d000-6cef088ebe6f"
      },
      "source": [
        "import numpy as np\r\n",
        "import seaborn as sns\r\n",
        "import matplotlib.pyplot as plt\r\n",
        "from matplotlib.pyplot import figure\r\n",
        "import matplotlib as mpl\r\n",
        "import matplotlib.image as mpimg\r\n",
        "india_img=mpimg.imread('beam.png')\r\n",
        "plt.figure(figsize=(12, 3.5), dpi=80)\r\n",
        "plt.imshow(india_img, extent=[-01.95, 1.90, -0.8, 0.44], alpha=0.5)\r\n",
        "cmap = mpl.colors.ListedColormap(['red', 'green', 'blue', 'cyan'])\r\n",
        "\r\n",
        "points = plt.scatter(df['Length [mm]'],df['Total Displacement [mm]'],c=df['Total Displacement [mm]'],cmap='rainbow_r',lw=0)\r\n",
        "\r\n",
        "plt.colorbar(points)\r\n",
        "plt.show()"
      ],
      "execution_count": 176,
      "outputs": [
        {
          "output_type": "display_data",
          "data": {
            "image/png": "[encoded data removed]",
            "text/plain": [
              "<Figure size 960x280 with 2 Axes>"
            ]
          },
          "metadata": {
            "tags": [],
            "needs_background": "light"
          }
        }
      ]
    },
    {
      "cell_type": "code",
      "metadata": {
        "colab": {
          "base_uri": "https://localhost:8080/",
          "height": 284
        },
        "id": "B65vMDpOh_wm",
        "outputId": "cd5ae0b1-fae5-4119-9fed-7cf6a23458e3"
      },
      "source": [
        "data.describe()"
      ],
      "execution_count": 79,
      "outputs": [
        {
          "output_type": "execute_result",
          "data": {
            "text/html": [
              "<div>\n",
              "<style scoped>\n",
              "    .dataframe tbody tr th:only-of-type {\n",
              "        vertical-align: middle;\n",
              "    }\n",
              "\n",
              "    .dataframe tbody tr th {\n",
              "        vertical-align: top;\n",
              "    }\n",
              "\n",
              "    .dataframe thead th {\n",
              "        text-align: right;\n",
              "    }\n",
              "</style>\n",
              "<table border=\"1\" class=\"dataframe\">\n",
              "  <thead>\n",
              "    <tr style=\"text-align: right;\">\n",
              "      <th></th>\n",
              "      <th>Length [mm]</th>\n",
              "      <th>Applied Load [N]</th>\n",
              "      <th>Total Displacement [mm]</th>\n",
              "      <th>Load Position</th>\n",
              "    </tr>\n",
              "  </thead>\n",
              "  <tbody>\n",
              "    <tr>\n",
              "      <th>count</th>\n",
              "      <td>2505.000000</td>\n",
              "      <td>2505.000000</td>\n",
              "      <td>2505.000000</td>\n",
              "      <td>2505.000000</td>\n",
              "    </tr>\n",
              "    <tr>\n",
              "      <th>mean</th>\n",
              "      <td>496.007984</td>\n",
              "      <td>299.600798</td>\n",
              "      <td>0.179940</td>\n",
              "      <td>0.552096</td>\n",
              "    </tr>\n",
              "    <tr>\n",
              "      <th>std</th>\n",
              "      <td>289.309716</td>\n",
              "      <td>141.590126</td>\n",
              "      <td>0.247942</td>\n",
              "      <td>0.278812</td>\n",
              "    </tr>\n",
              "    <tr>\n",
              "      <th>min</th>\n",
              "      <td>0.000000</td>\n",
              "      <td>100.000000</td>\n",
              "      <td>0.000000</td>\n",
              "      <td>0.200000</td>\n",
              "    </tr>\n",
              "    <tr>\n",
              "      <th>25%</th>\n",
              "      <td>250.000000</td>\n",
              "      <td>200.000000</td>\n",
              "      <td>0.020300</td>\n",
              "      <td>0.400000</td>\n",
              "    </tr>\n",
              "    <tr>\n",
              "      <th>50%</th>\n",
              "      <td>500.000000</td>\n",
              "      <td>300.000000</td>\n",
              "      <td>0.075300</td>\n",
              "      <td>0.600000</td>\n",
              "    </tr>\n",
              "    <tr>\n",
              "      <th>75%</th>\n",
              "      <td>750.000000</td>\n",
              "      <td>400.000000</td>\n",
              "      <td>0.236480</td>\n",
              "      <td>0.800000</td>\n",
              "    </tr>\n",
              "    <tr>\n",
              "      <th>max</th>\n",
              "      <td>1000.000000</td>\n",
              "      <td>500.000000</td>\n",
              "      <td>1.579100</td>\n",
              "      <td>1.000000</td>\n",
              "    </tr>\n",
              "  </tbody>\n",
              "</table>\n",
              "</div>"
            ],
            "text/plain": [
              "       Length [mm]  Applied Load [N]  Total Displacement [mm]  Load Position\n",
              "count  2505.000000       2505.000000              2505.000000    2505.000000\n",
              "mean    496.007984        299.600798                 0.179940       0.552096\n",
              "std     289.309716        141.590126                 0.247942       0.278812\n",
              "min       0.000000        100.000000                 0.000000       0.200000\n",
              "25%     250.000000        200.000000                 0.020300       0.400000\n",
              "50%     500.000000        300.000000                 0.075300       0.600000\n",
              "75%     750.000000        400.000000                 0.236480       0.800000\n",
              "max    1000.000000        500.000000                 1.579100       1.000000"
            ]
          },
          "metadata": {
            "tags": []
          },
          "execution_count": 79
        }
      ]
    },
    {
      "cell_type": "code",
      "metadata": {
        "id": "9gj-C1TnmgWV"
      },
      "source": [
        ""
      ],
      "execution_count": null,
      "outputs": []
    }
  ]
}